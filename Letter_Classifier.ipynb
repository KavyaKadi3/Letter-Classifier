{
  "nbformat": 4,
  "nbformat_minor": 0,
  "metadata": {
    "colab": {
      "provenance": []
    },
    "kernelspec": {
      "name": "python3",
      "display_name": "Python 3"
    },
    "language_info": {
      "name": "python"
    }
  },
  "cells": [
    {
      "cell_type": "code",
      "execution_count": null,
      "metadata": {
        "id": "y_xU0DLpGE8n"
      },
      "outputs": [],
      "source": [
        "import tensorflow as tf\n",
        "import numpy as np\n",
        "import matplotlib.pyplot as plt\n",
        "import time\n",
        "import os\n",
        "os.environ['TF_CPP_MIN_LOG_LEVEL'] = '3'\n",
        "from google.colab import drive\n",
        "drive.mount('/content/gdrive')\n",
        "\n",
        "path = '/content/gdrive/MyDrive/LetterClassifier/notMNIST.npz'\n",
        "\n",
        "# Load the data\n",
        "def load_data():\n",
        "    with np.load(path) as data:\n",
        "        data, targets = data[\"images\"], data[\"labels\"]\n",
        "        \n",
        "        np.random.seed(520)\n",
        "        rand_idx = np.arange(len(data))\n",
        "        np.random.shuffle(rand_idx)\n",
        "        \n",
        "        data = data[rand_idx] / 255.0\n",
        "        targets = targets[rand_idx].astype(int)\n",
        "        \n",
        "        train_data, train_target = data[:10000], targets[:10000]\n",
        "        valid_data, valid_target = data[10000:16000], targets[10000:16000]\n",
        "        test_data, test_target = data[16000:], targets[16000:]\n",
        "    return train_data, valid_data, test_data, train_target, valid_target, test_target\n",
        "\n",
        "def convert_onehot(train_target, valid_target, test_target):\n",
        "    new_train = np.zeros((train_target.shape[0], 10))\n",
        "    new_valid = np.zeros((valid_target.shape[0], 10))\n",
        "    new_test = np.zeros((test_target.shape[0], 10))\n",
        "\n",
        "    for item in range(0, train_target.shape[0]):\n",
        "        new_train[item][train_target[item]] = 1\n",
        "    for item in range(0, valid_target.shape[0]):\n",
        "        new_valid[item][valid_target[item]] = 1\n",
        "    for item in range(0, test_target.shape[0]):\n",
        "        new_test[item][test_target[item]] = 1\n",
        "    return new_train, new_valid, new_test\n",
        "\n",
        "def shuffle(data, target):\n",
        "    np.random.seed(420)\n",
        "    rand_idx = np.random.permutation(len(data))\n",
        "    return data[rand_idx], target[rand_idx]"
      ]
    },
    {
      "cell_type": "code",
      "source": [
        "######## PART 1 ########\n",
        "\n",
        "# Implementation of neural network using only Numpy (trained using gradient descent with momentum)\n",
        "def relu(x):\n",
        "    output = np.maximum(x,0)\n",
        "    return output\n",
        "\n",
        "def softmax(x):\n",
        "    input_z = x\n",
        "    max_x_value = np.max(input_z)\n",
        "    # In order to prevent overflow while computing exponentials, \n",
        "    # subtract the maximum value of z from all its elements\n",
        "    updated_input_z = input_z-max_x_value\n",
        "    part_one = np.exp(updated_input_z)\n",
        "    part_two = np.sum(np.exp(updated_input_z), axis=1, keepdims=True)\n",
        "    softmax_fn = part_one/part_two\n",
        "    return softmax_fn\n",
        "\n",
        "def compute_layer(x, w, b):\n",
        "    layer_output = np.matmul(x,w)+b\n",
        "    return layer_output\n",
        "\n",
        "def average_ce(target, prediction):\n",
        "    true_one_hot_label = target\n",
        "    part_one = np.sum(true_one_hot_label*np.log(prediction))\n",
        "    number_of_examples = true_one_hot_label.shape[0]\n",
        "    crossEntropyLoss = part_one/number_of_examples\n",
        "    avg_crossEntropyLoss = -1 * crossEntropyLoss\n",
        "    return avg_crossEntropyLoss\n",
        "\n",
        "def grad_ce(target, logits):\n",
        "    input_to_softmax_function = logits\n",
        "    prediction_for_gradient = softmax(input_to_softmax_function)\n",
        "    labels_y = target\n",
        "    crossEntropyLoss_gradient = prediction_for_gradient-labels_y\n",
        "    return crossEntropyLoss_gradient"
      ],
      "metadata": {
        "id": "swndPMztGH0X"
      },
      "execution_count": null,
      "outputs": []
    },
    {
      "cell_type": "code",
      "source": [
        "######## PART 2 - BACKPROPAGATION DERIVATION ########\n",
        "\n",
        "# gradient of the loss with respect to the output layer weights\n",
        "def gradient_loss_wrt_output_layer_weights(target, logits, sm_fn):\n",
        "    num_examples = target.shape[0]\n",
        "    input_to_softmax_function = relu(sm_fn)\n",
        "    gradient_ce = grad_ce(target, logits)\n",
        "    avg_gradient_ce = gradient_ce/num_examples\n",
        "    part_one = np.transpose(input_to_softmax_function)\n",
        "    part_two = avg_gradient_ce\n",
        "    dL_wo = np.matmul(part_one, part_two)\n",
        "    return dL_wo\n",
        "\n",
        "# gradient of the loss with respect to the output layer biases\n",
        "def gradient_loss_wrt_output_layer_biases(target, logits):\n",
        "    num_examples = target.shape[0]\n",
        "    ones = np.ones((1, num_examples))\n",
        "    gradient_ce = grad_ce(target, logits)\n",
        "    avg_gradient_ce = gradient_ce/num_examples\n",
        "    part_one = ones\n",
        "    part_two = avg_gradient_ce\n",
        "    dL_bo = np.matmul(part_one, part_two)\n",
        "    return dL_bo\n",
        "\n",
        "# gradient of the loss with respect to the hidden layer weights\n",
        "def gradient_loss_wrt_hidden_layer_weights(target, logits, x_input, sm_fn, output_weights):\n",
        "    sm_fn[sm_fn <= 0] = 0\n",
        "    sm_fn[sm_fn > 0] = 1\n",
        "    num_examples = target.shape[0]\n",
        "    gradient_ce = grad_ce(target, logits)\n",
        "    avg_gradient_ce = gradient_ce/num_examples\n",
        "    part_one = np.transpose(x_input)\n",
        "    part_two_a = np.transpose(output_weights)\n",
        "    part_two = np.matmul(avg_gradient_ce, part_two_a)\n",
        "    dL_wh = np.matmul(part_one, part_two*sm_fn)\n",
        "    return dL_wh\n",
        "\n",
        "# gradient of the loss with respect to the hidden layer biases\n",
        "def gradient_loss_wrt_hidden_layer_biases(target, logits, sm_fn, output_weights):\n",
        "    sm_fn[sm_fn <= 0] = 0\n",
        "    sm_fn[sm_fn > 0] = 1\n",
        "    num_examples = target.shape[0]\n",
        "    ones = np.ones((1, num_examples))\n",
        "    gradient_ce = grad_ce(target, logits)\n",
        "    avg_gradient_ce = gradient_ce/num_examples\n",
        "    part_one = ones\n",
        "    part_two_a = np.transpose(output_weights)\n",
        "    part_two = np.matmul(avg_gradient_ce, part_two_a)\n",
        "    dL_bh = np.matmul(part_one, part_two*sm_fn)\n",
        "    return dL_bh\n",
        "\n",
        "# final calculation of the backpropagation derivatives\n",
        "def backward_pass(target, logits, x_input, sm_fn, output_weights):\n",
        "    dL_wo = gradient_loss_wrt_output_layer_weights(target, logits, sm_fn)\n",
        "    dL_bo = gradient_loss_wrt_output_layer_biases(target, logits)\n",
        "    dL_wh = gradient_loss_wrt_hidden_layer_weights(target, logits, x_input, sm_fn, output_weights)\n",
        "    dL_bh = gradient_loss_wrt_hidden_layer_biases(target, logits, sm_fn, output_weights)\n",
        "    return dL_wo, dL_bo, dL_wh, dL_bh"
      ],
      "metadata": {
        "id": "H2TIamGbGJq6"
      },
      "execution_count": null,
      "outputs": []
    },
    {
      "cell_type": "code",
      "source": [
        "######## PART 3 - LEARNING ########\n",
        "\n",
        "def xavier_initializations(features_size):\n",
        "    units_in = 1000\n",
        "    units_out = 10\n",
        "    denom_one = units_in + units_out\n",
        "    denom_two = features_size + units_in\n",
        "    inner_one = (2/denom_one)**0.5\n",
        "    inner_two = (2/denom_two)**0.5\n",
        "\n",
        "    # initialize weight matrices following the Xaiver initialization scheme (zero-mean Gaussians with variance 2/(units_in+units_out))\n",
        "    output_weight = np.random.normal(0, inner_one, (1000, 10)) # Shape: H x 10 where H = 1000\n",
        "    hidden_weight = np.random.normal(0, inner_two, (features_size, 1000)) # Shape: F x H where F = features and H = 1000\n",
        "\n",
        "    # initialize bias vectors to zero\n",
        "    output_biases = np.zeros((1, 10)) # Shape: 1 x 10\n",
        "    hidden_biases = np.zeros((1, 1000)) # Shape: 1 x H where H = 1000\n",
        "\n",
        "    return output_weight, output_biases, hidden_weight, hidden_biases"
      ],
      "metadata": {
        "id": "nHNYqQK4GL2q"
      },
      "execution_count": null,
      "outputs": []
    },
    {
      "cell_type": "code",
      "source": [
        "def xavier_initializations_two(features_size):\n",
        "    units_in = 1000\n",
        "    units_out = 10\n",
        "    param = 1e-5\n",
        "    # for v matrices, initialize them to the same size as the hidden and output layer weight matrix sizes, with a very small value 10e-5\n",
        "    output_weights_matv = np.full((1000, 10), param) # Shape: H x 10 where H = 1000\n",
        "    output_biases_matv = np.full((1, 10), param) # Shape: 1 x 10\n",
        "    hidden_weights_matv = np.full((features_size, 1000), param) # Shape: F x H where F = features and H = 1000\n",
        "    hidden_biases_matv = np.full((1, 1000), param) # Shape: 1 x H where H = 1000\n",
        "\n",
        "    return output_weights_matv, output_biases_matv, hidden_weights_matv, hidden_biases_matv"
      ],
      "metadata": {
        "id": "kcayBh3RGOlz"
      },
      "execution_count": null,
      "outputs": []
    },
    {
      "cell_type": "code",
      "source": [
        "def update_output_layer_weight(wo_stepsize, output_weights, der_output_weights):\n",
        "    part_one = (0.99*wo_stepsize)\n",
        "    part_two = (0.1*der_output_weights)\n",
        "    wo_stepsize = (part_one) + (part_two)\n",
        "    output_weights = output_weights - wo_stepsize\n",
        "    return output_weights"
      ],
      "metadata": {
        "id": "L8Z2SjGyGQbK"
      },
      "execution_count": null,
      "outputs": []
    },
    {
      "cell_type": "code",
      "source": [
        "def update_output_layer_biases(bo_stepsize, output_biases, der_output_biases):\n",
        "    part_one = (0.99*bo_stepsize)\n",
        "    part_two = (0.1*der_output_biases)\n",
        "    bo_stepsize = (part_one) + (part_two)\n",
        "    output_biases = output_biases - bo_stepsize\n",
        "    return output_biases"
      ],
      "metadata": {
        "id": "OMIOSO96GR1N"
      },
      "execution_count": null,
      "outputs": []
    },
    {
      "cell_type": "code",
      "source": [
        "def update_hidden_layer_weights(wh_stepsize, hidden_weights, der_hidden_weights):\n",
        "    part_one = (0.99*wh_stepsize)\n",
        "    part_two = (0.1*der_hidden_weights)\n",
        "    wh_stepsize = (part_one) + (part_two)\n",
        "    hidden_weights = hidden_weights - wh_stepsize\n",
        "    return hidden_weights"
      ],
      "metadata": {
        "id": "TYkSoHv7GTel"
      },
      "execution_count": null,
      "outputs": []
    },
    {
      "cell_type": "code",
      "source": [
        "def update_hidden_layer_biases(bh_stepsize, hidden_biases, der_hidden_biases):\n",
        "    part_one = (0.99*bh_stepsize)\n",
        "    part_two = (0.1*der_hidden_biases)\n",
        "    bh_stepsize = (part_one) + (part_two)\n",
        "    hidden_biases = hidden_biases - bh_stepsize\n",
        "    return hidden_biases"
      ],
      "metadata": {
        "id": "hgo4rFIwGU-U"
      },
      "execution_count": null,
      "outputs": []
    },
    {
      "cell_type": "code",
      "source": [
        "def forward_pass_one(data_input, output_weights, output_biases, hidden_weights, hidden_biases):\n",
        "    data = data_input\n",
        "    output_one = compute_layer(relu(compute_layer(data, hidden_weights, hidden_biases)), output_weights, output_biases)\n",
        "    return output_one"
      ],
      "metadata": {
        "id": "jPD1NzuyGX2g"
      },
      "execution_count": null,
      "outputs": []
    },
    {
      "cell_type": "code",
      "source": [
        "def forward_pass(data_input, output_weights, output_biases, hidden_weights, hidden_biases):\n",
        "    data = data_input\n",
        "    softmax_z = compute_layer(data, hidden_weights, hidden_biases)\n",
        "    x_check = relu(softmax_z)\n",
        "    pre_pred = compute_layer(x_check, output_weights, output_biases)\n",
        "    output = softmax(pre_pred)\n",
        "    return output"
      ],
      "metadata": {
        "id": "fbu8BWG0GYUv"
      },
      "execution_count": null,
      "outputs": []
    },
    {
      "cell_type": "code",
      "source": [
        "def accuracy_fn(fw_pass, updated_dataset, num_of_examples):\n",
        "    prediction_result = np.argmax(fw_pass, axis = 1)\n",
        "    t_result = np.argmax(updated_dataset, axis = 1)\n",
        "    accuracy = np.sum((prediction_result==t_result))\n",
        "    final_accuracy = accuracy/num_of_examples\n",
        "    return final_accuracy"
      ],
      "metadata": {
        "id": "t-sONadUGdCb"
      },
      "execution_count": null,
      "outputs": []
    },
    {
      "cell_type": "code",
      "source": [
        "def neural_network():\n",
        "\n",
        "    # data\n",
        "    train_data, valid_data, test_data, train_target, valid_target, test_target = load_data()\n",
        "    updated_training_target, updated_validation_target, updated_test_target = convert_onehot(train_target, valid_target, test_target)\n",
        "    train_data = train_data.reshape(-1, 28*1*28)\n",
        "    valid_data = valid_data.reshape(-1, 784)\n",
        "    test_data = test_data.reshape(-1, 28*1*28)\n",
        "    \n",
        "    # xavier initializations\n",
        "    num_of_tr_examples = train_data.shape[0]\n",
        "    num_of_vl_examples = valid_data.shape[0]\n",
        "    features_size = train_data.shape[1]\n",
        "    output_weights, output_biases, hidden_weights, hidden_biases = xavier_initializations(features_size)\n",
        "    wo_stepsize, bo_stepsize, wh_stepsize, bh_stepsize = xavier_initializations_two(features_size)\n",
        "\n",
        "    # final output list initializations\n",
        "    training_loss = []\n",
        "    training_accuracy = []\n",
        "    validation_loss = []\n",
        "    validation_accuracy = []\n",
        "\n",
        "    for i in range(200):\n",
        "        # calculating training loss\n",
        "        tr_fw_pass = forward_pass(train_data, output_weights, output_biases, hidden_weights, hidden_biases)\n",
        "        tr_loss = average_ce(updated_training_target, tr_fw_pass)\n",
        "        training_loss.append(tr_loss)\n",
        "        # checking training accuracy\n",
        "        training_acc = accuracy_fn(tr_fw_pass, updated_training_target, num_of_tr_examples)\n",
        "        training_accuracy.append(training_acc)\n",
        "\n",
        "        # calculating validation loss \n",
        "        vl_fw_pass = forward_pass(valid_data, output_weights, output_biases, hidden_weights, hidden_biases)\n",
        "        val_loss = average_ce(updated_validation_target, vl_fw_pass)\n",
        "        validation_loss.append(val_loss)\n",
        "        # checking validation accuracy\n",
        "        validation_acc = accuracy_fn(vl_fw_pass, updated_validation_target, num_of_vl_examples)\n",
        "        validation_accuracy.append(validation_acc)\n",
        "\n",
        "        # using gradients to update network's weights and biases \n",
        "        tr_log = forward_pass_one(train_data, output_weights, output_biases, hidden_weights, hidden_biases)\n",
        "        wo_grad, bo_grad, wh_grad, bh_grad = backward_pass(updated_training_target, tr_log, train_data, compute_layer(train_data, hidden_weights, hidden_biases), output_weights)\n",
        "        output_weights = update_output_layer_weight(wo_stepsize, output_weights, wo_grad)\n",
        "        output_biases = update_output_layer_biases(bo_stepsize, output_biases, bo_grad)\n",
        "        hidden_weights = update_hidden_layer_weights(wh_stepsize, hidden_weights, wh_grad)\n",
        "        hidden_biases = update_hidden_layer_biases(bh_stepsize, hidden_biases, bh_grad)\n",
        "\n",
        "    return training_loss, validation_loss, training_accuracy, validation_accuracy"
      ],
      "metadata": {
        "id": "7G24Qj0QGfJi"
      },
      "execution_count": null,
      "outputs": []
    },
    {
      "cell_type": "code",
      "source": [
        "def plot_neural_network():\n",
        "\n",
        "    training_loss, validation_loss, training_accuracy, validation_accuracy = neural_network()\n",
        "\n",
        "    plt.title(\"Training & Validation Loss\") \n",
        "    plt.plot(training_loss, label='training dataset') \n",
        "    plt.plot(validation_loss, label='validation dataset')   \n",
        "    plt.xlabel('# of epochs')   \n",
        "    plt.ylabel('Loss')\n",
        "    plt.show()\n",
        "\n",
        "    plt.title(\"Training & Validation Accuracy\") \n",
        "    plt.plot(training_accuracy, label='training dataset') \n",
        "    plt.plot(validation_accuracy, label='validation dataset')   \n",
        "    plt.xlabel('# of epochs')   \n",
        "    plt.ylabel('Accuracy')\n",
        "    plt.show()\n",
        "\n",
        "    epochs = 200\n",
        "    final_training_point = epochs-1\n",
        "    final_validation_point = epochs-1\n",
        "    print_one = training_accuracy[final_training_point]\n",
        "    print_two = validation_accuracy[final_validation_point]\n",
        "\n",
        "    print(\"The Final Training Accuracy is \", print_one)\n",
        "    print(\"The Final Validation Accuracy is \", print_two)"
      ],
      "metadata": {
        "id": "nkn-MK7UGg1B"
      },
      "execution_count": null,
      "outputs": []
    },
    {
      "cell_type": "code",
      "source": [
        "plot_neural_network()"
      ],
      "metadata": {
        "colab": {
          "base_uri": "https://localhost:8080/",
          "height": 608
        },
        "id": "_pexKMOTGhjv",
        "outputId": "2fa196a9-f536-480e-8b81-71f8448a4fb1"
      },
      "execution_count": null,
      "outputs": [
        {
          "output_type": "display_data",
          "data": {
            "image/png": "[encoded data removed]",
            "text/plain": [
              "<Figure size 432x288 with 1 Axes>"
            ]
          },
          "metadata": {
            "needs_background": "light"
          }
        },
        {
          "output_type": "display_data",
          "data": {
            "image/png": "[encoded data removed]",
            "text/plain": [
              "<Figure size 432x288 with 1 Axes>"
            ]
          },
          "metadata": {
            "needs_background": "light"
          }
        },
        {
          "output_type": "stream",
          "name": "stdout",
          "text": [
            "The Final Training Accuracy is  0.9063\n",
            "The Final Validation Accuracy is  0.893\n"
          ]
        }
      ]
    }
  ]
}